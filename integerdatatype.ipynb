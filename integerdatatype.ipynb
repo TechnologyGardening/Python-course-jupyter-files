{
 "cells": [
  {
   "cell_type": "code",
   "execution_count": null,
   "metadata": {},
   "outputs": [],
   "source": [
    "# numeric data types int and float\n",
    "\n",
    "# arithmetic operators -->   +, -, *, %, /, //(floor) ,** (power)\n",
    "# shorthand operator --> +=, -=, *=, %=, /=, //=(floor)\n",
    "\n",
    "a,b=20,5\n",
    "\n",
    "#arithmetic operator\n",
    "print(\"\\nArithmetic operator output is:\\n\")\n",
    "print(\"Addition of {} and {} is {}\".format(a,b,a+b))\n",
    "\n",
    "print(\"Subtraction of {} and {} is {}\".format(a,b,a-b))\n",
    "\n",
    "print(\"Multiplication of {} and {} is {}\".format(a,b,a*b))\n",
    "\n",
    "print(\"Division of {} and {} is {}\".format(a,b,a/b))\n",
    "\n",
    "print(\"Floor Division of {} and {} is {}\".format(a,b,a//b))\n",
    "\n",
    "print(\"Modulo of {} and {} is {}\".format(a,b,a%b))\n",
    "\n",
    "print(\"Division modulo of {} and {} is {}\".format(a,b,divmod(a,b)))\n"
   ]
  },
  {
   "cell_type": "code",
   "execution_count": null,
   "metadata": {},
   "outputs": [],
   "source": [
    "# shorthand operator\n",
    "x=a\n",
    "print(\"\\n\\nValue of x is {} and b is {}\\n\".format(x,b))\n",
    "\n",
    "# x = x + b\n",
    "x=a\n",
    "x+=b\n",
    "print(\"Answer of x += b is {}\".format(x))\n",
    "\n",
    "# x = x - b\n",
    "x=a\n",
    "x-=b\n",
    "print(\"Answer of x -= b is {}\".format(x))\n",
    "\n",
    "# x = x * b\n",
    "x=a\n",
    "x*=b\n",
    "print(\"Answer of x *= b is {}\".format(x))\n",
    "\n",
    "# x = x / b\n",
    "x=a\n",
    "x/=b\n",
    "print(\"Answer of x /= b is {}\".format(x))\n",
    "\n",
    "# x = x // b\n",
    "x=a\n",
    "x//=b\n",
    "print(\"Answer of x //= b is {}\".format(x))\n"
   ]
  },
  {
   "cell_type": "code",
   "execution_count": null,
   "metadata": {},
   "outputs": [],
   "source": [
    "print(\"\\n\\n\")\n",
    "\n",
    "print(\"Absolute value of {} is {}\".format(-5,abs(-5)))\n",
    "\n",
    "print(\"\\n{} power {} is {}\".format(2,3,pow(2,3)))"
   ]
  },
  {
   "cell_type": "code",
   "execution_count": null,
   "metadata": {},
   "outputs": [],
   "source": [
    "# Comparision operator returns boolean value (true / false)\n",
    "# <, <=, >=, >, ==, !=, is, is not\n",
    "\n",
    "# Comparision operator output\n",
    "a1,b1,c1=8,9,9\n",
    "print(\"{}  < {} is {}\".format(a1,b1,a1 < b1))\n",
    "print(\"{}  <= {} is {}\".format(a1,b1,a1 <= b1))\n",
    "print(\"{}  > {} is {}\".format(a1,b1,a1 > b1))\n",
    "print(\"{}  >= {} is {}\".format(a1,b1,a1 >= b1))\n",
    "print(\"{}  == {} is {}\".format(a1,b1,a1 == b1))\n",
    "print(\"{}  != {} is {}\".format(a1,b1,a1 != b1))\n",
    "print(\"{} < {} == {} is {}\".format(a1,b1,c1,a1<b1==c1))"
   ]
  },
  {
   "cell_type": "code",
   "execution_count": null,
   "metadata": {},
   "outputs": [],
   "source": []
  }
 ],
 "metadata": {
  "kernelspec": {
   "display_name": "Python 3",
   "language": "python",
   "name": "python3"
  },
  "language_info": {
   "codemirror_mode": {
    "name": "ipython",
    "version": 3
   },
   "file_extension": ".py",
   "mimetype": "text/x-python",
   "name": "python",
   "nbconvert_exporter": "python",
   "pygments_lexer": "ipython3",
   "version": "3.7.6"
  }
 },
 "nbformat": 4,
 "nbformat_minor": 4
}
