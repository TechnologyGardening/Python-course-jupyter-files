{
 "cells": [
  {
   "cell_type": "code",
   "execution_count": null,
   "metadata": {},
   "outputs": [],
   "source": [
    "#list declaration and initialization\n",
    "l1 = [1,2,3,4,5,6]\n",
    "\n",
    "#empty list declarartion\n",
    "l2 = []\n",
    "\n",
    "print(\"List1 :\",l1,\"\\nList2 :\",l2)\n",
    "\n",
    "#in-built list methods"
   ]
  },
  {
   "cell_type": "code",
   "execution_count": null,
   "metadata": {},
   "outputs": [],
   "source": [
    "#1. append an element to list and display list\n",
    "print(\"Before :\",l2)\n",
    "l2.append(l1[0])\n",
    "print(\"After :\",l2)"
   ]
  },
  {
   "cell_type": "code",
   "execution_count": null,
   "metadata": {},
   "outputs": [],
   "source": [
    "#2. extend / merge list \n",
    "print(\"Before :\",l2)\n",
    "l2.extend((4,5,6,7))\n",
    "print(\"After :\",l2)"
   ]
  },
  {
   "cell_type": "code",
   "execution_count": null,
   "metadata": {},
   "outputs": [],
   "source": [
    "#3. insert into list (position, value)\n",
    "print(\"Before :\",l2)\n",
    "l2.insert(0,99)\n",
    "print(\"After :\",l2)"
   ]
  },
  {
   "cell_type": "code",
   "execution_count": null,
   "metadata": {},
   "outputs": [],
   "source": [
    "#4. remove from list\n",
    "print(\"Before :\",l2)\n",
    "l2.remove(6)\n",
    "print(\"After :\",l2)"
   ]
  },
  {
   "cell_type": "code",
   "execution_count": null,
   "metadata": {},
   "outputs": [],
   "source": [
    "#5. pop from list\n",
    "print(\"Before :\",l2)\n",
    "l2.pop()\n",
    "print(\"After :\",l2)"
   ]
  },
  {
   "cell_type": "code",
   "execution_count": null,
   "metadata": {},
   "outputs": [],
   "source": [
    "#6. clear list\n",
    "print(\"Before :\",l2)\n",
    "l2.clear()\n",
    "print(\"After :\",l2)"
   ]
  },
  {
   "cell_type": "code",
   "execution_count": null,
   "metadata": {},
   "outputs": [],
   "source": [
    "#7. index return index of a specified value\n",
    "# range can be specified\n",
    "l2[:]=l1\n",
    "print(l2)\n",
    "# add some repeating numbers\n",
    "l2.extend((4,5,3,2,4))\n",
    "print(l2.index(4,7))"
   ]
  },
  {
   "cell_type": "code",
   "execution_count": null,
   "metadata": {},
   "outputs": [],
   "source": [
    "#8. count return count of value or item\n",
    "print(l2)\n",
    "print(l2.count(4))\n"
   ]
  },
  {
   "cell_type": "code",
   "execution_count": null,
   "metadata": {},
   "outputs": [],
   "source": [
    "l4=[\"hi\",3,1.456,\"hello\",\"hi\",34]\n",
    "print(l4.count(\"hi\"))"
   ]
  },
  {
   "cell_type": "code",
   "execution_count": null,
   "metadata": {},
   "outputs": [],
   "source": [
    "#9. sort the list\n",
    "l2.sort(reverse=True)\n",
    "print(l2)"
   ]
  },
  {
   "cell_type": "code",
   "execution_count": null,
   "metadata": {},
   "outputs": [],
   "source": [
    "#10. reverse the list\n",
    "l2.reverse()\n",
    "print(l2)"
   ]
  },
  {
   "cell_type": "code",
   "execution_count": null,
   "metadata": {},
   "outputs": [],
   "source": [
    "#11. copy list\n",
    "l4=l2.copy()\n",
    "print(l4)"
   ]
  },
  {
   "cell_type": "code",
   "execution_count": null,
   "metadata": {},
   "outputs": [],
   "source": []
  }
 ],
 "metadata": {
  "kernelspec": {
   "display_name": "Python 3",
   "language": "python",
   "name": "python3"
  },
  "language_info": {
   "codemirror_mode": {
    "name": "ipython",
    "version": 3
   },
   "file_extension": ".py",
   "mimetype": "text/x-python",
   "name": "python",
   "nbconvert_exporter": "python",
   "pygments_lexer": "ipython3",
   "version": "3.7.6"
  }
 },
 "nbformat": 4,
 "nbformat_minor": 4
}
