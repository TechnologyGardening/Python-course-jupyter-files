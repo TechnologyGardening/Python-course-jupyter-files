{
 "cells": [
  {
   "cell_type": "code",
   "execution_count": 1,
   "metadata": {},
   "outputs": [
    {
     "name": "stdout",
     "output_type": "stream",
     "text": [
      "[1, 2, 3, ['hi', 'jay', 'abc']]\n"
     ]
    }
   ],
   "source": [
    "l1=[1,2,3,[\"hi\",\"jay\",\"abc\"]]\n",
    "print(l1)"
   ]
  },
  {
   "cell_type": "code",
   "execution_count": 3,
   "metadata": {},
   "outputs": [
    {
     "name": "stdout",
     "output_type": "stream",
     "text": [
      "hello\n"
     ]
    }
   ],
   "source": [
    "l2=[\"good\",\"morning\",\"hello\",[\"hi\",\"hello\"]]\n",
    "print(l2[3][1])"
   ]
  },
  {
   "cell_type": "code",
   "execution_count": 4,
   "metadata": {},
   "outputs": [
    {
     "name": "stdout",
     "output_type": "stream",
     "text": [
      "['jay', 'abc', 'xyz', [45, 56, 78, [35, 89], 68], [76, 98, 87, 75], [78, 45, 48, 58, 69], [7.8, 6.8, 6], 7]\n"
     ]
    }
   ],
   "source": [
    "s1=[\"jay\",\"abc\",\"xyz\",[45,56,78,[35,89],68],[76,98,87,75],[78,45,48,58,69],[7.8,6.8,6],7]\n",
    "print(s1)"
   ]
  },
  {
   "cell_type": "code",
   "execution_count": 6,
   "metadata": {},
   "outputs": [
    {
     "name": "stdout",
     "output_type": "stream",
     "text": [
      "Name of student is : jay\n",
      "Surname of student is : abc\n",
      "Name of university is : xyz\n",
      "1st Semester marks : [45, 56, 78, [35, 89], 68]\n",
      "1st Semester Multiple attempt subject marks are :  [35, 89]\n"
     ]
    }
   ],
   "source": [
    "print(\"Name of student is :\",s1[0])\n",
    "print(\"Surname of student is :\",s1[1])\n",
    "print(\"Name of university is :\",s1[2])\n",
    "print(\"1st Semester marks :\",s1[3])\n",
    "print(\"1st Semester Multiple attempt subject marks are : \",s1[3][3])"
   ]
  },
  {
   "cell_type": "code",
   "execution_count": 7,
   "metadata": {},
   "outputs": [
    {
     "name": "stdout",
     "output_type": "stream",
     "text": [
      "['jay', 'abc', 'xyz', [45, 56, 78, [35, 89], 68], 99, [78, 45, 48, 58, 69], [7.8, 6.8, 6], 7]\n"
     ]
    }
   ],
   "source": [
    "s1[4]=99\n",
    "print(s1)"
   ]
  },
  {
   "cell_type": "code",
   "execution_count": 8,
   "metadata": {},
   "outputs": [
    {
     "name": "stdout",
     "output_type": "stream",
     "text": [
      "['jay', 'abc', 'xyz', [45, 56, 78, [35, 98], 68], 99, [78, 45, 48, 58, 69], [7.8, 6.8, 6], 7]\n"
     ]
    }
   ],
   "source": [
    "s1[3][3][1] = 98\n",
    "print(s1)"
   ]
  },
  {
   "cell_type": "code",
   "execution_count": null,
   "metadata": {},
   "outputs": [],
   "source": []
  }
 ],
 "metadata": {
  "kernelspec": {
   "display_name": "Python 3",
   "language": "python",
   "name": "python3"
  },
  "language_info": {
   "codemirror_mode": {
    "name": "ipython",
    "version": 3
   },
   "file_extension": ".py",
   "mimetype": "text/x-python",
   "name": "python",
   "nbconvert_exporter": "python",
   "pygments_lexer": "ipython3",
   "version": "3.7.6"
  }
 },
 "nbformat": 4,
 "nbformat_minor": 4
}
