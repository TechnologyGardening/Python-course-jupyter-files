{
 "cells": [
  {
   "cell_type": "code",
   "execution_count": null,
   "metadata": {},
   "outputs": [],
   "source": [
    "smpl_str=\"Correlation is a statistical technique that is used to measure and describe a relationship between two variables. Usually the two variables are simply observed as they exist naturally in the environment - there is no attempt to control or manipulate the variables. For example, a researcher interested in the relationship between nutrition and IQ could observe (and record) the dietary patterns for a group of preschool children and then measure IQ scores for the same group. Notice that the researcher is not trying to manipulate the children's diet or IQ, but is simply observing what occurs naturally. You  also should notice that a correlation requires two scores for each individual (one score from each of the two variables). These scores normally are identified as X and Y. The pairs of scores can be listed in a table, or they can be presented graphically in a scatterplot. In the scatterplot, the X values are placed on the horizontal axis of a graph, and the V values are placed on the vertical axis. Each individual is then identified by a single point on the graph so that the coordinates of the point (the X and V values) match the individual's X score and Y score. The value of the scatterplot is that it allows you to see the nature of the relationship.\"\n",
    "print(smpl_str)"
   ]
  },
  {
   "cell_type": "code",
   "execution_count": null,
   "metadata": {},
   "outputs": [],
   "source": [
    "#string declaration\n",
    "s1=\"Put some random string here with double quote \"\n",
    "print(s1)"
   ]
  },
  {
   "cell_type": "code",
   "execution_count": null,
   "metadata": {},
   "outputs": [],
   "source": [
    "s2='put some random string here with \" double quote \" in sentence'\n",
    "print(s2)"
   ]
  },
  {
   "cell_type": "code",
   "execution_count": null,
   "metadata": {},
   "outputs": [],
   "source": [
    "s3='Put some random string here with single quote'\n",
    "print(s3)"
   ]
  },
  {
   "cell_type": "code",
   "execution_count": null,
   "metadata": {},
   "outputs": [],
   "source": [
    "#Uppercase Conversion of string\n",
    "s4=s3.upper()\n",
    "print(s4)"
   ]
  },
  {
   "cell_type": "code",
   "execution_count": null,
   "metadata": {},
   "outputs": [],
   "source": [
    "#Lowercase Conversion of string\n",
    "s4=s4.lower()\n",
    "print(s4)"
   ]
  },
  {
   "cell_type": "code",
   "execution_count": null,
   "metadata": {},
   "outputs": [],
   "source": [
    "#Capitalize Conversion of string\n",
    "s4=s4.capitalize()\n",
    "print(s4)"
   ]
  },
  {
   "cell_type": "code",
   "execution_count": null,
   "metadata": {},
   "outputs": [],
   "source": [
    "#Swapcase Conversion of string\n",
    "s4=s4.swapcase()\n",
    "print(s4)"
   ]
  },
  {
   "cell_type": "code",
   "execution_count": null,
   "metadata": {},
   "outputs": [],
   "source": [
    "#function relatedd to string\n",
    "\n",
    "# len( string ) returns length of string in integer\n",
    "le=len(smpl_str)\n",
    "print(le)\n",
    "\n",
    "# chr( integer) return character for number specified as argument\n",
    "c1=chr(99)\n",
    "print(c1)\n",
    "\n",
    "# str ( argument )  convert specified argument into string \n",
    "print(str(3.14))\n",
    "\n",
    "print(str(1+2j))\n",
    "\n",
    "print(str(5*11))\n",
    "\n",
    "print(\"hello \"*5)"
   ]
  },
  {
   "cell_type": "code",
   "execution_count": null,
   "metadata": {},
   "outputs": [],
   "source": [
    "#String Count function\n",
    "# variable.count(argument,start,stop)\n",
    "a=smpl_str.count(\"in\")\n",
    "print(a)\n",
    "\n",
    "# only starting range as an argument\n",
    "a=smpl_str.count(\"in\",750)\n",
    "print(a)\n",
    "\n",
    "# starting and ending range as an argument\n",
    "a=smpl_str.count(\"in\",1000,1200)\n",
    "print(a)"
   ]
  },
  {
   "cell_type": "code",
   "execution_count": null,
   "metadata": {},
   "outputs": [],
   "source": [
    "# string formatting\n",
    "s7=\"Hello\"\n",
    "print(s7.center(11,\"*\"))\n",
    "print(s7.ljust(11,\"*\"))\n",
    "print(s7.rjust(11,\"*\"))"
   ]
  },
  {
   "cell_type": "code",
   "execution_count": null,
   "metadata": {},
   "outputs": [],
   "source": [
    "# string testing\n",
    "s8 = \"ABCD123\"\n",
    "s9 = \"12345\"\n",
    "s10 = \"abcdEFGH\"\n",
    "\n",
    "print(s8.startswith(\"a\"))\n",
    "print(s8.isalnum())\n",
    "print(s8.isalpha())\n",
    "print(s8.isdigit())\n",
    "print(s9.isdigit())\n"
   ]
  },
  {
   "cell_type": "code",
   "execution_count": null,
   "metadata": {},
   "outputs": [],
   "source": [
    "# string replacement\n",
    "s9 = smpl_str\n",
    "\n",
    "# string_variable.replace(word_exist_in_string,existing_words_to_be_replaced,count)\n",
    "s9 = s9.replace(\" in \",\" __999__ \")\n",
    "\n",
    "s9 = s9.replace(\" is \",\" --888-- \")\n",
    "\n",
    "s9 = s9.replace(\" the \",\" ^^777^^ \")\n",
    "print(s9)"
   ]
  },
  {
   "cell_type": "code",
   "execution_count": null,
   "metadata": {},
   "outputs": [],
   "source": []
  }
 ],
 "metadata": {
  "kernelspec": {
   "display_name": "Python 3",
   "language": "python",
   "name": "python3"
  },
  "language_info": {
   "codemirror_mode": {
    "name": "ipython",
    "version": 3
   },
   "file_extension": ".py",
   "mimetype": "text/x-python",
   "name": "python",
   "nbconvert_exporter": "python",
   "pygments_lexer": "ipython3",
   "version": "3.7.6"
  }
 },
 "nbformat": 4,
 "nbformat_minor": 4
}
